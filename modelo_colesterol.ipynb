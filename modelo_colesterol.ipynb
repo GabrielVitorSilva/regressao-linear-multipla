{
 "cells": [
  {
   "cell_type": "code",
   "execution_count": null,
   "metadata": {},
   "outputs": [],
   "source": [
    "import pandas as pd \n",
    "import seaborn as sns\n",
    "import matplotlib.pyplot as plt"
   ]
  },
  {
   "cell_type": "code",
   "execution_count": null,
   "metadata": {},
   "outputs": [],
   "source": [
    "df_colesterol = pd.read_csv('./datasets/dataset_colesterol.csv')"
   ]
  },
  {
   "cell_type": "code",
   "execution_count": null,
   "metadata": {},
   "outputs": [],
   "source": [
    "df_colesterol.info()"
   ]
  },
  {
   "cell_type": "code",
   "execution_count": null,
   "metadata": {},
   "outputs": [],
   "source": [
    "# Remover id\n",
    "df_colesterol.drop(columns=['Id'], axis=1, inplace=True)"
   ]
  },
  {
   "cell_type": "code",
   "execution_count": null,
   "metadata": {},
   "outputs": [],
   "source": [
    "# Renomear as colunas\n",
    "df_colesterol.columns = [\n",
    "  'grupo_sanguineo',\n",
    "  'fumante',\n",
    "  'nivel_atividade_fisica',\n",
    "  'idade',\n",
    "  'peso',\n",
    "  'altura',\n",
    "  'nivel_colesterol',\n",
    "]"
   ]
  },
  {
   "cell_type": "code",
   "execution_count": null,
   "metadata": {},
   "outputs": [],
   "source": [
    "# Copiar DF para DF EDA\n",
    "df_colesterol_eda = df_colesterol.copy()"
   ]
  },
  {
   "cell_type": "code",
   "execution_count": null,
   "metadata": {},
   "outputs": [],
   "source": [
    "# Copiar DF para DF EDA\n",
    "df_colesterol_bucketing = df_colesterol.copy()"
   ]
  },
  {
   "cell_type": "markdown",
   "metadata": {},
   "source": [
    "### EDA"
   ]
  },
  {
   "cell_type": "code",
   "execution_count": null,
   "metadata": {},
   "outputs": [],
   "source": [
    "df_colesterol_eda.head()"
   ]
  },
  {
   "cell_type": "code",
   "execution_count": null,
   "metadata": {},
   "outputs": [],
   "source": [
    "df_colesterol_eda.grupo_sanguineo.unique()"
   ]
  },
  {
   "cell_type": "code",
   "execution_count": null,
   "metadata": {},
   "outputs": [],
   "source": [
    "df_colesterol_eda.isna().sum()"
   ]
  },
  {
   "cell_type": "code",
   "execution_count": null,
   "metadata": {},
   "outputs": [],
   "source": [
    "# Medidas estatísticas\n",
    "df_colesterol_eda.describe()"
   ]
  },
  {
   "cell_type": "code",
   "execution_count": null,
   "metadata": {},
   "outputs": [],
   "source": [
    "# Coletar medikdas das variáveis categoricas\n",
    "moda_grupo_sanguineo = df_colesterol_eda.grupo_sanguineo.mode()\n",
    "moda_fumante = df_colesterol_eda.fumante.mode()\n",
    "moda_nivel_atividade = df_colesterol_eda.nivel_atividade_fisica.mode()"
   ]
  },
  {
   "cell_type": "code",
   "execution_count": null,
   "metadata": {},
   "outputs": [],
   "source": [
    "# Coletar medikdas das variáveis numéricas\n",
    "mediana_idade = df_colesterol_eda.idade.median()\n",
    "mediana_peso = df_colesterol_eda.peso.median()\n",
    "mediana_altura = df_colesterol_eda.altura.median()"
   ]
  },
  {
   "cell_type": "code",
   "execution_count": null,
   "metadata": {},
   "outputs": [],
   "source": [
    "df_colesterol_eda.fillna(value={'grupo_sanguineo': moda_grupo_sanguineo[0],\n",
    "                                'fumante':moda_fumante[0],\n",
    "                                'nivel_atividade_fisica':moda_nivel_atividade[0],\n",
    "                                'idade': mediana_idade,\n",
    "                                'peso':mediana_peso,\n",
    "                                'altura':mediana_altura\n",
    "                                }, inplace=True)"
   ]
  },
  {
   "cell_type": "code",
   "execution_count": null,
   "metadata": {},
   "outputs": [],
   "source": [
    "df_colesterol_eda.idade = df_colesterol_eda.idade.astype(int)\n",
    "df_colesterol_eda.altura = df_colesterol_eda.altura.astype(int)"
   ]
  },
  {
   "cell_type": "code",
   "execution_count": null,
   "metadata": {},
   "outputs": [],
   "source": [
    "df_colesterol_eda.info()"
   ]
  },
  {
   "cell_type": "code",
   "execution_count": null,
   "metadata": {},
   "outputs": [],
   "source": [
    "# Detectar outliers\n",
    "sns.boxplot(data=df_colesterol_eda, x='peso')"
   ]
  },
  {
   "cell_type": "code",
   "execution_count": null,
   "metadata": {},
   "outputs": [],
   "source": [
    "df_colesterol_eda[df_colesterol_eda['peso'] < 40].peso.count()"
   ]
  },
  {
   "cell_type": "code",
   "execution_count": null,
   "metadata": {},
   "outputs": [],
   "source": [
    "# Remover\n",
    "df_colesterol_eda.drop(df_colesterol_eda[df_colesterol_eda['peso'] < 40].index, axis=0, inplace=True)"
   ]
  },
  {
   "cell_type": "code",
   "execution_count": null,
   "metadata": {},
   "outputs": [],
   "source": [
    "sns.boxplot(data=df_colesterol_eda, x='nivel_colesterol')"
   ]
  },
  {
   "cell_type": "code",
   "execution_count": null,
   "metadata": {},
   "outputs": [],
   "source": [
    "# Cruzamento de variáveis com nível de colesterol\n",
    "sns.boxplot(data=df_colesterol_eda, x='grupo_sanguineo', y='nivel_colesterol')"
   ]
  },
  {
   "cell_type": "code",
   "execution_count": null,
   "metadata": {},
   "outputs": [],
   "source": [
    "# Cruzamento de variáveis com nível de colesterol\n",
    "sns.boxplot(data=df_colesterol_eda, x='fumante', y='nivel_colesterol')"
   ]
  },
  {
   "cell_type": "code",
   "execution_count": null,
   "metadata": {},
   "outputs": [],
   "source": [
    "# Cruzamento de variáveis com nível de colesterol\n",
    "sns.boxplot(data=df_colesterol_eda, x='nivel_atividade_fisica', y='nivel_colesterol')"
   ]
  },
  {
   "cell_type": "code",
   "execution_count": null,
   "metadata": {},
   "outputs": [],
   "source": [
    "# Cruzamento variáveis numéricas com nível colesterol\n",
    "sns.scatterplot(data=df_colesterol_eda, x='idade',y='nivel_colesterol')"
   ]
  },
  {
   "cell_type": "code",
   "execution_count": null,
   "metadata": {},
   "outputs": [],
   "source": [
    "# Cruzamento variáveis numéricas com nível colesterol\n",
    "sns.scatterplot(data=df_colesterol_eda, x='peso',y='nivel_colesterol')"
   ]
  },
  {
   "cell_type": "code",
   "execution_count": null,
   "metadata": {},
   "outputs": [],
   "source": [
    "# Cruzamento variáveis numéricas com nível colesterol\n",
    "sns.scatterplot(data=df_colesterol_eda, x='altura',y='nivel_colesterol')"
   ]
  },
  {
   "cell_type": "code",
   "execution_count": null,
   "metadata": {},
   "outputs": [],
   "source": [
    "sns.pairplot(df_colesterol_eda)"
   ]
  },
  {
   "cell_type": "code",
   "execution_count": null,
   "metadata": {},
   "outputs": [],
   "source": [
    "# Converter variáveis categóricas em numéricas, ONE-HOT pandas\n",
    "df_colesterol_eda = pd.get_dummies(df_colesterol_eda, columns=['grupo_sanguineo', 'fumante'], dtype='int64')"
   ]
  },
  {
   "cell_type": "code",
   "execution_count": null,
   "metadata": {},
   "outputs": [],
   "source": [
    "df_colesterol_eda['nivel_atividade_fisica'] = pd.factorize(df_colesterol_eda.nivel_atividade_fisica)[0] + 1"
   ]
  },
  {
   "cell_type": "code",
   "execution_count": null,
   "metadata": {},
   "outputs": [],
   "source": [
    "df_colesterol_eda.head()"
   ]
  },
  {
   "cell_type": "code",
   "execution_count": null,
   "metadata": {},
   "outputs": [],
   "source": [
    "# Mapa de calor com correlação\n",
    "plt.figure(figsize=(15,6))\n",
    "sns.heatmap(df_colesterol_eda.corr(), vmin=-1, vmax=1, annot=True)"
   ]
  },
  {
   "cell_type": "code",
   "execution_count": null,
   "metadata": {},
   "outputs": [],
   "source": [
    "# Correlação somente com variável target\n",
    "sns.heatmap(df_colesterol_eda.corr()[['nivel_colesterol']].sort_values(by='nivel_colesterol', ascending=False),\n",
    "             vmin=-1, vmax=1, annot=True, cmap='BrBG')"
   ]
  },
  {
   "cell_type": "code",
   "execution_count": null,
   "metadata": {},
   "outputs": [],
   "source": [
    "# Bucketing Idade\n",
    "bins_idade = [20,30, 40, 50, 60, 70, 80]\n",
    "labels_idade = ['20-29', '30-39', '40-49', '50-59', '60-69', '70-79']\n",
    "df_colesterol_bucketing['escala_idade'] = pd.cut(x = df_colesterol_bucketing['idade'], bins = bins_idade, labels=labels_idade,\n",
    "                                                 include_lowest=True)"
   ]
  },
  {
   "cell_type": "code",
   "execution_count": null,
   "metadata": {},
   "outputs": [],
   "source": [
    "df_colesterol_bucketing.head(10)"
   ]
  },
  {
   "cell_type": "code",
   "execution_count": null,
   "metadata": {},
   "outputs": [],
   "source": [
    "sns.boxplot(df_colesterol_bucketing, x='escala_idade', y='nivel_colesterol')"
   ]
  },
  {
   "cell_type": "code",
   "execution_count": null,
   "metadata": {},
   "outputs": [],
   "source": [
    "# Bucketing Peso\n",
    "bins_peso = [40, 50, 60, 70, 80, 90, 100, 110, 120, 130, 140, 150, 160]\n",
    "labels_peso = ['40-49', '50-59', '60-69', '70-79', '80-89', '90-99', '100-109', \n",
    "               '110-119', '120-129', '130-139', '140-149', '150-159']\n",
    "df_colesterol_bucketing['escala_peso'] = pd.cut(x = df_colesterol_bucketing['peso'], bins = bins_peso, labels=labels_peso,\n",
    "                                                 include_lowest=True)"
   ]
  },
  {
   "cell_type": "code",
   "execution_count": null,
   "metadata": {},
   "outputs": [],
   "source": [
    "plt.figure(figsize=(15,8))\n",
    "sns.boxplot(df_colesterol_bucketing, x='escala_peso', y='nivel_colesterol')"
   ]
  },
  {
   "cell_type": "markdown",
   "metadata": {},
   "source": [
    "### Treinar Modelo"
   ]
  },
  {
   "cell_type": "code",
   "execution_count": null,
   "metadata": {},
   "outputs": [],
   "source": [
    "from sklearn.model_selection import train_test_split\n",
    "from sklearn.linear_model import LinearRegression\n",
    "from sklearn.preprocessing import StandardScaler, OneHotEncoder, OrdinalEncoder\n",
    "from sklearn.compose import ColumnTransformer\n",
    "from sklearn.pipeline import Pipeline\n",
    "from sklearn.impute import SimpleImputer\n",
    "from sklearn.metrics import r2_score, mean_absolute_error, mean_squared_error"
   ]
  },
  {
   "cell_type": "code",
   "execution_count": null,
   "metadata": {},
   "outputs": [],
   "source": [
    "# Criar Dataset de Treino e Teste\n",
    "df_colesterol.drop(df_colesterol[df_colesterol['peso'] < 40].index, axis=0, inplace=True)"
   ]
  },
  {
   "cell_type": "code",
   "execution_count": null,
   "metadata": {},
   "outputs": [],
   "source": [
    "X = df_colesterol. drop(columns='nivel_colesterol', axis=1)\n",
    "y = df_colesterol['nivel_colesterol']"
   ]
  },
  {
   "cell_type": "code",
   "execution_count": null,
   "metadata": {},
   "outputs": [],
   "source": [
    "X_train, X_test, y_train, y_test = train_test_split(X, y, train_size=0.30, random_state=51)"
   ]
  },
  {
   "cell_type": "code",
   "execution_count": null,
   "metadata": {},
   "outputs": [],
   "source": [
    "# Pipeline\n",
    "# Imputar moda nas variáveis categóricas\n",
    "# Padronizar variáveis numéricas\n",
    "# OneHotEncode nas variáveis categoricas nominais\n",
    "# OrdinalEncoder nas variáveis categóricas ordinais\n",
    "# Imputar mediana nas variáveis numéricas \n",
    "\n",
    "# Nome das Colunas\n",
    "colunas_categoricas = ['grupo_sanguineo', 'fumante']\n",
    "colunas_numericas = ['idade', 'altura','peso']\n",
    "colunas_ordinais = ['nivel_atividade_fisica']"
   ]
  },
  {
   "cell_type": "code",
   "execution_count": null,
   "metadata": {},
   "outputs": [],
   "source": [
    "# Transformer Categoricas\n",
    "transformer_categorias = Pipeline(steps=[\n",
    "  ('imputer', SimpleImputer(strategy='most_frequent')),\n",
    "  ('onehot', OneHotEncoder(handle_unknown='ignore'))\n",
    "])"
   ]
  },
  {
   "cell_type": "code",
   "execution_count": null,
   "metadata": {},
   "outputs": [],
   "source": [
    "# Transformer Ordinais\n",
    "transformer_ordinais = Pipeline(steps=[\n",
    "  ('imputer', SimpleImputer(strategy='most_frequent')),\n",
    "  ('ordinal', OrdinalEncoder(categories=[['Baixo', 'Moderado', 'Alto']],handle_unknown='error'))\n",
    "])"
   ]
  },
  {
   "cell_type": "code",
   "execution_count": null,
   "metadata": {},
   "outputs": [],
   "source": [
    "# Transformer Numericas\n",
    "transformer_numericas = Pipeline(steps=[\n",
    "  ('imputer', SimpleImputer(strategy='median')),\n",
    "  ('scaler', StandardScaler())\n",
    "])"
   ]
  },
  {
   "cell_type": "code",
   "execution_count": null,
   "metadata": {},
   "outputs": [],
   "source": [
    "# Criar um ColumnTransformer que encapsula todas as transformações\n",
    "preprocessor = ColumnTransformer(\n",
    "  transformers=[\n",
    "    ('num', transformer_numericas, colunas_numericas),\n",
    "    ('cat', transformer_categorias, colunas_categoricas),\n",
    "    ('ord', transformer_ordinais, colunas_ordinais),\n",
    "  ]\n",
    ")"
   ]
  },
  {
   "cell_type": "code",
   "execution_count": null,
   "metadata": {},
   "outputs": [],
   "source": [
    "# Criando o pipeline principal = Pre processamento + Treinamento\n",
    "model_regr = Pipeline(steps=[('preprocessor', preprocessor),\n",
    "                             ('regressor', LinearRegression())])"
   ]
  },
  {
   "cell_type": "code",
   "execution_count": null,
   "metadata": {},
   "outputs": [],
   "source": [
    "# Treinar Modelo\n",
    "model_regr.fit(X_train, y_train)"
   ]
  },
  {
   "cell_type": "markdown",
   "metadata": {},
   "source": [
    "### Análise de Métricas"
   ]
  },
  {
   "cell_type": "code",
   "execution_count": null,
   "metadata": {},
   "outputs": [],
   "source": [
    "# Gerar Predição\n",
    "y_pred = model_regr.predict(X_test)"
   ]
  },
  {
   "cell_type": "code",
   "execution_count": null,
   "metadata": {},
   "outputs": [],
   "source": [
    "r2_score(y_test, y_pred)"
   ]
  },
  {
   "cell_type": "code",
   "execution_count": null,
   "metadata": {},
   "outputs": [],
   "source": [
    "# Calcular MAE\n",
    "mean_absolute_error(y_test, y_pred)"
   ]
  },
  {
   "cell_type": "code",
   "execution_count": null,
   "metadata": {},
   "outputs": [],
   "source": [
    "# Calcular RMSE\n",
    "mean_squared_error(y_test, y_pred, squared=False)"
   ]
  },
  {
   "cell_type": "markdown",
   "metadata": {},
   "source": [
    "### Análise de resíduos"
   ]
  },
  {
   "cell_type": "code",
   "execution_count": null,
   "metadata": {},
   "outputs": [],
   "source": [
    "residuos = y_test - y_pred"
   ]
  },
  {
   "cell_type": "code",
   "execution_count": null,
   "metadata": {},
   "outputs": [],
   "source": [
    "# Transformar resíduos na escala padrão   -    (X -media) / desvio_padrao\n",
    "from scipy.stats import zscore\n",
    "residuos_std = zscore(residuos)"
   ]
  },
  {
   "cell_type": "code",
   "execution_count": null,
   "metadata": {},
   "outputs": [],
   "source": [
    "# Verificar linearidade dos resíduos: Valores entre -2 e +2\n",
    "# Verificar homocedasticidade: Valores em torno da reta\n",
    "sns.scatterplot(x=y_pred, y=residuos_std)\n",
    "plt.axhline(y=0)\n",
    "plt.axhline(y=-2)\n",
    "plt.axhline(y=2)"
   ]
  },
  {
   "cell_type": "code",
   "execution_count": null,
   "metadata": {},
   "outputs": [],
   "source": [
    "# Chegar se resíduos seguem uma distribuição normal\n",
    "# QQ Plot\n",
    "import pingouin as pg\n",
    "plt.figure(figsize=(14,8))\n",
    "pg.qqplot(residuos_std, dist='norm', confidence=0.95)\n",
    "plt.xlabel('Quantis Teóricos')\n",
    "plt.ylabel('Resíduos na escala padrão')\n",
    "plt.show()"
   ]
  },
  {
   "cell_type": "code",
   "execution_count": null,
   "metadata": {},
   "outputs": [],
   "source": [
    "# Teste de normalidade de Shapiro-Wilk\n",
    "from scipy.stats import shapiro, kstest, anderson\n",
    "from statsmodels.stats.diagnostic import lilliefors, het_goldfeldquandt\n",
    "stat_shapiro, p_value_shapiro = shapiro(residuos)\n",
    "print('Estatística do Teste: {} e P-Value: {}'.format(stat_shapiro, p_value_shapiro))"
   ]
  },
  {
   "cell_type": "code",
   "execution_count": null,
   "metadata": {},
   "outputs": [],
   "source": [
    "# Teste de Kolmogorov-Sminorv\n",
    "stat_ks, p_value_ks = kstest(residuos, 'norm')\n",
    "print('Estatística do Teste: {} e P-Value: {}'.format(stat_ks, p_value_ks))"
   ]
  },
  {
   "cell_type": "code",
   "execution_count": null,
   "metadata": {},
   "outputs": [],
   "source": [
    "# Teste de Lilliefors\n",
    "stat_ll, p_value_ll = lilliefors(residuos, dist='norm', pvalmethod='table')\n",
    "print('Estatística do Teste: {} e P-Value: {}'.format(stat_ll, p_value_ll))"
   ]
  },
  {
   "cell_type": "code",
   "execution_count": null,
   "metadata": {},
   "outputs": [],
   "source": [
    "# Teste de Anderson-darling\n",
    "stat_and, critical_and, significance_and = anderson(residuos, dist='norm')"
   ]
  },
  {
   "cell_type": "code",
   "execution_count": null,
   "metadata": {},
   "outputs": [],
   "source": [
    "critical_and"
   ]
  },
  {
   "cell_type": "code",
   "execution_count": null,
   "metadata": {},
   "outputs": [],
   "source": [
    "significance_and"
   ]
  },
  {
   "cell_type": "code",
   "execution_count": null,
   "metadata": {},
   "outputs": [],
   "source": [
    "print('Estatística do Teste: {} e valor crítico: {}'.format(stat_and, critical_and[2]))"
   ]
  },
  {
   "cell_type": "code",
   "execution_count": null,
   "metadata": {},
   "outputs": [],
   "source": [
    "# Teste de Homocedasticidade de Goldfeld-Quandt\n",
    "pipe = Pipeline(steps=[['preprocessor', preprocessor]])\n",
    "X_test_transformed = pipe.fit_transform(X_test)"
   ]
  },
  {
   "cell_type": "code",
   "execution_count": null,
   "metadata": {},
   "outputs": [],
   "source": [
    "X_test_transformed"
   ]
  },
  {
   "cell_type": "code",
   "execution_count": null,
   "metadata": {},
   "outputs": [],
   "source": [
    "test_goldfeld = het_goldfeldquandt(residuos, X_test_transformed)\n",
    "stat_goldfeld = test_goldfeld[0]\n",
    "p_value = test_goldfeld[1]\n",
    "print('Estatística do Teste: {} e P-Value: {}'.format(stat_goldfeld, p_value))"
   ]
  },
  {
   "cell_type": "markdown",
   "metadata": {},
   "source": [
    "### Predições individuais do modelelo"
   ]
  },
  {
   "cell_type": "code",
   "execution_count": null,
   "metadata": {},
   "outputs": [],
   "source": [
    "predicao_individual = {\n",
    "  'grupo_sanguineo' : 'O',\n",
    "  'fumante' : 'Não',\n",
    "  'nivel_atividade_fisica' : 'Alto',\n",
    "  'idade' : 40,\n",
    "  'peso' : 70,\n",
    "  'altura' : 180,\n",
    "}\n",
    "sample_df = pd.DataFrame(predicao_individual, index=[1])"
   ]
  },
  {
   "cell_type": "code",
   "execution_count": 531,
   "metadata": {},
   "outputs": [
    {
     "data": {
      "text/plain": [
       "array([164.43571502])"
      ]
     },
     "execution_count": 531,
     "metadata": {},
     "output_type": "execute_result"
    }
   ],
   "source": [
    "# Predição\n",
    "model_regr.predict(sample_df)"
   ]
  },
  {
   "cell_type": "code",
   "execution_count": null,
   "metadata": {},
   "outputs": [],
   "source": [
    "# Salvar Modelo\n",
    "import joblib\n",
    "joblib.dump(model_regr, './modelo_colesterol.pkl')"
   ]
  }
 ],
 "metadata": {
  "kernelspec": {
   "display_name": "regressao-linear-multipla-7ShNGrud",
   "language": "python",
   "name": "python3"
  },
  "language_info": {
   "codemirror_mode": {
    "name": "ipython",
    "version": 3
   },
   "file_extension": ".py",
   "mimetype": "text/x-python",
   "name": "python",
   "nbconvert_exporter": "python",
   "pygments_lexer": "ipython3",
   "version": "3.10.12"
  }
 },
 "nbformat": 4,
 "nbformat_minor": 2
}
